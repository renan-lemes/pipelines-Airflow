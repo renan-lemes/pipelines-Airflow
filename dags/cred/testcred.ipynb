{
 "cells": [
  {
   "cell_type": "code",
   "execution_count": null,
   "id": "2a2617ec",
   "metadata": {},
   "outputs": [],
   "source": [
    "from dotenv import load_dotenv\n",
    "import os \n",
    "\n",
    "load_dotenv()\n",
    "\n",
    "TEST = os.getenv('USERNAME_MYSQL')"
   ]
  },
  {
   "cell_type": "code",
   "execution_count": 3,
   "id": "ceb70b16",
   "metadata": {},
   "outputs": [],
   "source": [
    "TEST2 = os.getenv('BQ_DATASET')"
   ]
  },
  {
   "cell_type": "code",
   "execution_count": null,
   "id": "365ff66e",
   "metadata": {},
   "outputs": [
    {
     "data": {
      "text/plain": [
       "'root'"
      ]
     },
     "execution_count": 4,
     "metadata": {},
     "output_type": "execute_result"
    }
   ],
   "source": [
    "TEST\n"
   ]
  },
  {
   "cell_type": "code",
   "execution_count": 5,
   "id": "fcd68445",
   "metadata": {},
   "outputs": [
    {
     "data": {
      "text/plain": [
       "'DataLake'"
      ]
     },
     "execution_count": 5,
     "metadata": {},
     "output_type": "execute_result"
    }
   ],
   "source": [
    "TEST2"
   ]
  },
  {
   "cell_type": "code",
   "execution_count": null,
   "id": "90000eb1",
   "metadata": {},
   "outputs": [],
   "source": []
  }
 ],
 "metadata": {
  "kernelspec": {
   "display_name": "airflow_env",
   "language": "python",
   "name": "python3"
  },
  "language_info": {
   "codemirror_mode": {
    "name": "ipython",
    "version": 3
   },
   "file_extension": ".py",
   "mimetype": "text/x-python",
   "name": "python",
   "nbconvert_exporter": "python",
   "pygments_lexer": "ipython3",
   "version": "3.9.21"
  }
 },
 "nbformat": 4,
 "nbformat_minor": 5
}
